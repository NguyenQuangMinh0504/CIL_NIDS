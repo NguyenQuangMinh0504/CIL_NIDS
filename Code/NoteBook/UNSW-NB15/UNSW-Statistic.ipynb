{
 "cells": [
  {
   "cell_type": "code",
   "execution_count": 1,
   "id": "7c08fb6f",
   "metadata": {},
   "outputs": [],
   "source": [
    "import pandas as pd"
   ]
  },
  {
   "cell_type": "code",
   "execution_count": 5,
   "id": "7b1aca2f",
   "metadata": {},
   "outputs": [
    {
     "data": {
      "text/plain": [
       "Normal            37000\n",
       "Generic           18871\n",
       "Exploits          11132\n",
       "Fuzzers            6062\n",
       "DoS                4089\n",
       "Reconnaissance     3496\n",
       "Analysis            677\n",
       "Backdoor            583\n",
       "Shellcode           378\n",
       "Worms                44\n",
       "Name: attack_cat, dtype: int64"
      ]
     },
     "execution_count": 5,
     "metadata": {},
     "output_type": "execute_result"
    }
   ],
   "source": [
    "path = \"../../../Dataset/UNSW-NB15/UNSW_NB15_training-set.csv\"\n",
    "dataset = pd.read_csv(path)\n",
    "dataset[\"attack_cat\"].value_counts()"
   ]
  },
  {
   "cell_type": "code",
   "execution_count": null,
   "id": "dc2e865e",
   "metadata": {},
   "outputs": [],
   "source": []
  }
 ],
 "metadata": {
  "kernelspec": {
   "display_name": "Python 3 (ipykernel)",
   "language": "python",
   "name": "python3"
  },
  "language_info": {
   "codemirror_mode": {
    "name": "ipython",
    "version": 3
   },
   "file_extension": ".py",
   "mimetype": "text/x-python",
   "name": "python",
   "nbconvert_exporter": "python",
   "pygments_lexer": "ipython3",
   "version": "3.9.13"
  }
 },
 "nbformat": 4,
 "nbformat_minor": 5
}
