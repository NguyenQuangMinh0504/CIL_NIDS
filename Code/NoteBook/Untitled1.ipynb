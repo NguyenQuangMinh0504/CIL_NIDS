{
 "cells": [
  {
   "cell_type": "code",
   "execution_count": 1,
   "id": "0bede678",
   "metadata": {},
   "outputs": [],
   "source": [
    "kdd_finetune = [100, 97.4, 55.75, 34.89, 79.1, 78.89]\n",
    "kdd_der = [100, 99.97, 99.96, 99.85, 99.83, 99.83]\n",
    "kdd_memo = [100, 99.78, 99.67, 98.16, 99.23, 99.4]"
   ]
  },
  {
   "cell_type": "code",
   "execution_count": 4,
   "id": "3e20d254",
   "metadata": {},
   "outputs": [],
   "source": [
    "# Testing cross entropy\n",
    "import torch\n",
    "from torch.nn import functional as F\n",
    "from torch.nn import LogSoftmax\n",
    "from torch import nn"
   ]
  },
  {
   "cell_type": "code",
   "execution_count": 5,
   "id": "bb1d6cbb-7aea-4140-a2b1-7ddbf5c84b12",
   "metadata": {},
   "outputs": [
    {
     "name": "stdout",
     "output_type": "stream",
     "text": [
      "tensor([[ 1.1362,  0.1501,  0.0812,  0.0934, -0.7428],\n",
      "        [ 0.2865, -0.4536,  0.2225, -0.8563,  0.3789],\n",
      "        [-0.4626,  0.5787, -0.7395, -1.0337, -0.6823]], requires_grad=True)\n",
      "tensor(1.7304, grad_fn=<NllLossBackward0>)\n",
      "<class 'torch.Tensor'>\n",
      "None\n",
      "tensor([[-0.8004, -1.7865, -1.8554, -1.8432, -2.6794],\n",
      "        [-1.3431, -2.0832, -1.4071, -2.4858, -1.2507],\n",
      "        [-1.7849, -0.7435, -2.0618, -2.3560, -2.0045]],\n",
      "       grad_fn=<LogSoftmaxBackward0>)\n",
      "tensor([1, 0, 2])\n",
      "tensor(1.7304, grad_fn=<NllLossBackward0>)\n"
     ]
    }
   ],
   "source": [
    "input = torch.randn(3, 5, requires_grad=True)\n",
    "print(input)\n",
    "target = torch.randint(5, (3,), dtype=torch.int64)\n",
    "loss = F.cross_entropy(input, target)\n",
    "print(loss)\n",
    "print(type(loss))\n",
    "print(loss.backward())\n",
    "loss = nn.NLLLoss()\n",
    "m = LogSoftmax(dim=1)\n",
    "print(m(input))\n",
    "print(target)\n",
    "print(loss(m(input), target))"
   ]
  },
  {
   "cell_type": "code",
   "execution_count": 6,
   "id": "4cd19a87-66b4-45c3-a783-5c2f22d1a29b",
   "metadata": {},
   "outputs": [
    {
     "name": "stdout",
     "output_type": "stream",
     "text": [
      "-2.5848666666666666\n"
     ]
    }
   ],
   "source": [
    "print((-2.0121 + -3.0772 + -2.6653) / 3) "
   ]
  },
  {
   "cell_type": "code",
   "execution_count": 7,
   "id": "9cdb5088-7438-433c-a012-71f093b147a7",
   "metadata": {},
   "outputs": [
    {
     "name": "stdout",
     "output_type": "stream",
     "text": [
      "tensor([0, 2, 2])\n",
      "tensor(175114.3333, dtype=torch.float64)\n"
     ]
    }
   ],
   "source": [
    "x = torch.tensor([[10000, -100000, 535343, 0, 0], [0, 0, 500, 0, 0], [0, 0, 500, 0, 0]], dtype=torch.float64)\n",
    "y = torch.tensor([0, 2, 2])\n",
    "print(y)\n",
    "print(F.cross_entropy(x, y))"
   ]
  },
  {
   "cell_type": "code",
   "execution_count": 8,
   "id": "74061feb-16a0-4a4b-b2e0-3eb7e3f14e14",
   "metadata": {},
   "outputs": [
    {
     "name": "stdout",
     "output_type": "stream",
     "text": [
      "tensor([[-0.8004, -1.7865, -1.8554, -1.8432, -2.6794],\n",
      "        [-1.3431, -2.0832, -1.4071, -2.4858, -1.2507],\n",
      "        [-1.7849, -0.7435, -2.0618, -2.3560, -2.0045]],\n",
      "       grad_fn=<LogSoftmaxBackward0>)\n"
     ]
    }
   ],
   "source": [
    "print(m(input))"
   ]
  },
  {
   "cell_type": "code",
   "execution_count": 9,
   "id": "0e8c422a-51c9-4af8-a27f-a47a1f34e688",
   "metadata": {},
   "outputs": [],
   "source": [
    "m = torch.nn.Softmax(dim=1)"
   ]
  },
  {
   "cell_type": "code",
   "execution_count": 10,
   "id": "4a309bf5-c5e2-45e6-919c-008ae48fbb43",
   "metadata": {},
   "outputs": [
    {
     "name": "stdout",
     "output_type": "stream",
     "text": [
      "tensor([[-0.8004, -1.7865, -1.8554, -1.8432, -2.6794],\n",
      "        [-1.3431, -2.0832, -1.4071, -2.4858, -1.2507],\n",
      "        [-1.7849, -0.7435, -2.0618, -2.3560, -2.0045]], grad_fn=<LogBackward0>)\n"
     ]
    }
   ],
   "source": [
    "print(torch.log(m(input)))"
   ]
  },
  {
   "cell_type": "code",
   "execution_count": 22,
   "id": "689dace3-3688-4f1d-a25a-b72c7394cce9",
   "metadata": {},
   "outputs": [
    {
     "name": "stdout",
     "output_type": "stream",
     "text": [
      "tensor([[1., 2., 3.],\n",
      "        [2., 3., 4.]])\n",
      "torch.Size([2, 3])\n",
      "tensor([[1., 2., 3.],\n",
      "        [2., 3., 5.]])\n",
      "torch.Size([2, 3])\n",
      "tensor([[ 1.,  4.,  9.],\n",
      "        [ 4.,  9., 20.]])\n"
     ]
    }
   ],
   "source": [
    "random_input_1 = torch.Tensor([[1, 2, 3], [2, 3, 4]])\n",
    "print(random_input_1)\n",
    "print(random_input_1.shape)\n",
    "random_input_2 = torch.Tensor([[1, 2, 3], [2, 3, 5]])\n",
    "print(random_input_2)\n",
    "print(random_input_2.shape)\n",
    "mul = torch.mul(random_input_1, random_input_2)\n",
    "print(mul)"
   ]
  },
  {
   "cell_type": "code",
   "execution_count": null,
   "id": "ba5aa944-0af7-47dd-ae2f-9ab618629fb4",
   "metadata": {},
   "outputs": [],
   "source": []
  },
  {
   "cell_type": "code",
   "execution_count": null,
   "id": "3a89b2ca-2aa9-4a8d-9a28-8bd68bf61c69",
   "metadata": {},
   "outputs": [],
   "source": []
  },
  {
   "cell_type": "code",
   "execution_count": null,
   "id": "9d027274-89f1-4aeb-855b-c38279d79943",
   "metadata": {},
   "outputs": [],
   "source": [
    "input = torch.randn(64, 10, requires_grad=True)"
   ]
  },
  {
   "cell_type": "code",
   "execution_count": null,
   "id": "8ddce6f5-25a3-4517-b553-367a0985748e",
   "metadata": {},
   "outputs": [],
   "source": [
    "input[:, 5:]\n"
   ]
  },
  {
   "cell_type": "code",
   "execution_count": null,
   "id": "34a026af-42df-49f0-8cc3-f941cbef11ea",
   "metadata": {},
   "outputs": [],
   "source": [
    "input"
   ]
  },
  {
   "cell_type": "code",
   "execution_count": null,
   "id": "b4ca5f9f-7676-4aaf-9250-5f150f96a77f",
   "metadata": {},
   "outputs": [],
   "source": []
  }
 ],
 "metadata": {
  "kernelspec": {
   "display_name": "Python 3 (ipykernel)",
   "language": "python",
   "name": "python3"
  },
  "language_info": {
   "codemirror_mode": {
    "name": "ipython",
    "version": 3
   },
   "file_extension": ".py",
   "mimetype": "text/x-python",
   "name": "python",
   "nbconvert_exporter": "python",
   "pygments_lexer": "ipython3",
   "version": "3.11.8"
  }
 },
 "nbformat": 4,
 "nbformat_minor": 5
}
