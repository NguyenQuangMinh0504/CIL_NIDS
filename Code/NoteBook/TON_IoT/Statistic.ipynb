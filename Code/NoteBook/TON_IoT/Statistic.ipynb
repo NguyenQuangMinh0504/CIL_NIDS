{
 "cells": [
  {
   "cell_type": "code",
   "execution_count": 1,
   "id": "531d907a",
   "metadata": {},
   "outputs": [],
   "source": [
    "import pandas as pd"
   ]
  },
  {
   "cell_type": "code",
   "execution_count": 2,
   "id": "0c983be5",
   "metadata": {},
   "outputs": [],
   "source": [
    "path = \"../../../Dataset/TON_IOT/Train_Test_datasets/Train_Test_Network_dataset/Train_Test_Network.csv\"\n",
    "dataset = pd.read_csv(path)"
   ]
  },
  {
   "cell_type": "code",
   "execution_count": 8,
   "id": "abdc4458",
   "metadata": {},
   "outputs": [
    {
     "name": "stdout",
     "output_type": "stream",
     "text": [
      "45\n",
      "-----------------\n",
      "ts\n",
      "src_ip\n",
      "src_port\n",
      "dst_ip\n",
      "dst_port\n",
      "proto\n",
      "service\n",
      "duration\n",
      "src_bytes\n",
      "dst_bytes\n",
      "conn_state\n",
      "missed_bytes\n",
      "src_pkts\n",
      "src_ip_bytes\n",
      "dst_pkts\n",
      "-----------------\n",
      "dst_ip_bytes\n",
      "dns_query\n",
      "dns_qclass\n",
      "dns_qtype\n",
      "dns_rcode\n",
      "dns_AA\n",
      "dns_RD\n",
      "dns_RA\n",
      "dns_rejected\n",
      "ssl_version\n",
      "ssl_cipher\n",
      "ssl_resumed\n",
      "ssl_established\n",
      "ssl_subject\n",
      "ssl_issuer\n",
      "-----------------\n",
      "http_trans_depth\n",
      "http_method\n",
      "http_uri\n",
      "http_version\n",
      "http_request_body_len\n",
      "http_response_body_len\n",
      "http_status_code\n",
      "http_user_agent\n",
      "http_orig_mime_types\n",
      "http_resp_mime_types\n",
      "weird_name\n",
      "weird_addl\n",
      "weird_notice\n",
      "label\n",
      "type\n"
     ]
    }
   ],
   "source": [
    "print(len(dataset.columns))\n",
    "for i, column in enumerate(dataset.columns):\n",
    "    if i % 15 == 0:\n",
    "        print(\"-----------------\")\n",
    "    print(column)"
   ]
  },
  {
   "cell_type": "code",
   "execution_count": 4,
   "id": "13627b81",
   "metadata": {},
   "outputs": [
    {
     "name": "stdout",
     "output_type": "stream",
     "text": [
      "Number of attack type: \n"
     ]
    },
    {
     "data": {
      "text/plain": [
       "normal        300000\n",
       "scanning       20000\n",
       "dos            20000\n",
       "injection      20000\n",
       "ddos           20000\n",
       "password       20000\n",
       "xss            20000\n",
       "ransomware     20000\n",
       "backdoor       20000\n",
       "mitm            1043\n",
       "Name: type, dtype: int64"
      ]
     },
     "execution_count": 4,
     "metadata": {},
     "output_type": "execute_result"
    }
   ],
   "source": [
    "print(\"Number of attack type: \")\n",
    "dataset[\"type\"].value_counts()"
   ]
  },
  {
   "cell_type": "code",
   "execution_count": 5,
   "id": "488e59ce",
   "metadata": {},
   "outputs": [
    {
     "name": "stdout",
     "output_type": "stream",
     "text": [
      "Total number of records is: 461043\n"
     ]
    }
   ],
   "source": [
    "print(f\"Total number of records is: {len(dataset)}\")"
   ]
  },
  {
   "cell_type": "code",
   "execution_count": 6,
   "id": "dcf49e6e",
   "metadata": {},
   "outputs": [
    {
     "name": "stdout",
     "output_type": "stream",
     "text": [
      "Number of rows with NaN values: 0\n"
     ]
    }
   ],
   "source": [
    "num_rows_with_nan = dataset.isnull().any(axis=1).sum()\n",
    "print(\"Number of rows with NaN values:\", num_rows_with_nan)"
   ]
  },
  {
   "cell_type": "code",
   "execution_count": null,
   "id": "6100c3bf",
   "metadata": {},
   "outputs": [],
   "source": []
  }
 ],
 "metadata": {
  "kernelspec": {
   "display_name": "Python 3 (ipykernel)",
   "language": "python",
   "name": "python3"
  },
  "language_info": {
   "codemirror_mode": {
    "name": "ipython",
    "version": 3
   },
   "file_extension": ".py",
   "mimetype": "text/x-python",
   "name": "python",
   "nbconvert_exporter": "python",
   "pygments_lexer": "ipython3",
   "version": "3.9.13"
  }
 },
 "nbformat": 4,
 "nbformat_minor": 5
}
