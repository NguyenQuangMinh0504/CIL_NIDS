{
 "cells": [
  {
   "cell_type": "code",
   "execution_count": 1,
   "id": "6a5aac29",
   "metadata": {},
   "outputs": [],
   "source": [
    "import pandas as pd\n",
    "from sklearn import preprocessing\n",
    "import tensorflow as tf\n",
    "\n",
    "# display all columns\n",
    "pd.options.display.max_columns = None"
   ]
  },
  {
   "cell_type": "code",
   "execution_count": 2,
   "id": "cae3f114",
   "metadata": {},
   "outputs": [],
   "source": [
    "# Utils\n",
    "from sklearn import preprocessing\n",
    "def encode_text_index(df, name):\n",
    "    le = preprocessing.LabelEncoder()\n",
    "    df[name] = le.fit_transform(df[name])\n",
    "    return le.classes_\n",
    "# Encode a numeric column as zscores\n",
    "def encode_numeric_zscore(df, name, mean=None, sd=None):\n",
    "    if mean is None:\n",
    "        mean = df[name].mean()\n",
    "\n",
    "    if sd is None:\n",
    "        sd = df[name].std()\n",
    "\n",
    "    df[name] = (df[name] - mean) / sd\n",
    "# Encode text values to dummy variables(i.e. [1,0,0],[0,1,0],[0,0,1] for red,green,blue)\n",
    "def encode_text_dummy(df, name):\n",
    "    dummies = pd.get_dummies(df[name])\n",
    "    for x in dummies.columns:\n",
    "        dummy_name = f\"{name}-{x}\"\n",
    "        df[dummy_name] = dummies[x]\n",
    "    df.drop(name, axis=1, inplace=True)\n",
    "# Convert a Pandas dataframe to the x,y inputs that TensorFlow needs\n",
    "def to_xy(df, target):\n",
    "    result = []\n",
    "    for x in df.columns:\n",
    "        if x != target:\n",
    "            result.append(x)\n",
    "    # find out the type of the target column.  Is it really this hard? :(\n",
    "    target_type = df[target].dtypes\n",
    "    target_type = target_type[0] if hasattr(\n",
    "        target_type, '__iter__') else target_type\n",
    "    # Encode to int for classification, float otherwise. TensorFlow likes 32 bits.\n",
    "    if target_type in (np.int64, np.int32):\n",
    "        # Classification\n",
    "        dummies = pd.get_dummies(df[target])\n",
    "        return df[result].values.astype(np.float32), dummies.values.astype(np.float32)\n",
    "    # Regression\n",
    "    return df[result].values.astype(np.float32), df[[target]].values.astype(np.float32)"
   ]
  },
  {
   "cell_type": "code",
   "execution_count": 3,
   "id": "6d2d417f",
   "metadata": {},
   "outputs": [
    {
     "data": {
      "text/plain": [
       "Malicious    1522\n",
       "Normal       1007\n",
       "Name: Label, dtype: int64"
      ]
     },
     "execution_count": 3,
     "metadata": {},
     "output_type": "execute_result"
    }
   ],
   "source": [
    "# Suggest labeling\n",
    "\n",
    "path = \"../../../Dataset/Custom_Dataset/capture.pcap_Flow.csv\"\n",
    "dataset = pd.read_csv(filepath_or_buffer=path)\n",
    "\n",
    "dataset[\"Label\"] = \"Normal\"\n",
    "dataset.loc[dataset[\"Src IP\"] == \"42.114.37.222\", \"Label\"] = \"Malicious\"\n",
    "dataset.loc[dataset[\"Dst IP\"] == \"42.114.37.222\", \"Label\"] = \"Malicious\"\n",
    "dataset[\"Label\"].value_counts()"
   ]
  },
  {
   "cell_type": "code",
   "execution_count": 4,
   "id": "d469f49a",
   "metadata": {},
   "outputs": [],
   "source": [
    "dataset.columns\n",
    "dataset.drop(columns=[\"Flow ID\", \"Src IP\", \"Dst IP\", \"Timestamp\"], inplace=True)"
   ]
  },
  {
   "cell_type": "code",
   "execution_count": 5,
   "id": "df1495cd",
   "metadata": {},
   "outputs": [],
   "source": [
    "for column in dataset.columns:\n",
    "    if column != \"Label\":\n",
    "        encode_numeric_zscore(dataset, column)\n",
    "    else:\n",
    "        encode_text_index(dataset, column)"
   ]
  },
  {
   "cell_type": "code",
   "execution_count": 6,
   "id": "7737f93d",
   "metadata": {},
   "outputs": [
    {
     "name": "stdout",
     "output_type": "stream",
     "text": [
      "Index(['Flow Bytes/s', 'Flow Packets/s', 'Bwd PSH Flags', 'Fwd URG Flags',\n",
      "       'Bwd URG Flags', 'URG Flag Count', 'CWR Flag Count', 'ECE Flag Count',\n",
      "       'Fwd Bytes/Bulk Avg', 'Fwd Packet/Bulk Avg', 'Fwd Bulk Rate Avg'],\n",
      "      dtype='object')\n"
     ]
    }
   ],
   "source": [
    "nan_columns = dataset.columns[dataset.isna().any()]\n",
    "print(nan_columns)\n",
    "dataset.drop(columns=nan_columns, inplace=True)"
   ]
  },
  {
   "cell_type": "code",
   "execution_count": 7,
   "id": "705a6c34",
   "metadata": {},
   "outputs": [
    {
     "name": "stdout",
     "output_type": "stream",
     "text": [
      "Epoch 1/1000\n",
      "60/60 - 1s - loss: 0.5812 - val_loss: 0.2572 - 516ms/epoch - 9ms/step\n",
      "Epoch 2/1000\n",
      "60/60 - 0s - loss: 0.1409 - val_loss: 0.0871 - 74ms/epoch - 1ms/step\n",
      "Epoch 3/1000\n",
      "60/60 - 0s - loss: 0.0707 - val_loss: 0.0537 - 73ms/epoch - 1ms/step\n",
      "Epoch 4/1000\n",
      "60/60 - 0s - loss: 0.0524 - val_loss: 0.0414 - 73ms/epoch - 1ms/step\n",
      "Epoch 5/1000\n",
      "60/60 - 0s - loss: 0.0461 - val_loss: 0.0373 - 72ms/epoch - 1ms/step\n",
      "Epoch 6/1000\n",
      "60/60 - 0s - loss: 0.0394 - val_loss: 0.0306 - 70ms/epoch - 1ms/step\n",
      "Epoch 7/1000\n",
      "60/60 - 0s - loss: 0.0305 - val_loss: 0.0268 - 74ms/epoch - 1ms/step\n",
      "Epoch 8/1000\n",
      "60/60 - 0s - loss: 0.0257 - val_loss: 0.0249 - 73ms/epoch - 1ms/step\n",
      "Epoch 9/1000\n",
      "60/60 - 0s - loss: 0.0231 - val_loss: 0.0222 - 73ms/epoch - 1ms/step\n",
      "Epoch 10/1000\n",
      "60/60 - 0s - loss: 0.0203 - val_loss: 0.0215 - 71ms/epoch - 1ms/step\n",
      "Epoch 11/1000\n",
      "60/60 - 0s - loss: 0.0191 - val_loss: 0.0236 - 71ms/epoch - 1ms/step\n",
      "Epoch 12/1000\n",
      "60/60 - 0s - loss: 0.0179 - val_loss: 0.0238 - 71ms/epoch - 1ms/step\n",
      "Epoch 13/1000\n",
      "60/60 - 0s - loss: 0.0161 - val_loss: 0.0143 - 72ms/epoch - 1ms/step\n",
      "Epoch 14/1000\n",
      "60/60 - 0s - loss: 0.0150 - val_loss: 0.0129 - 70ms/epoch - 1ms/step\n",
      "Epoch 15/1000\n",
      "60/60 - 0s - loss: 0.0142 - val_loss: 0.0131 - 72ms/epoch - 1ms/step\n",
      "Epoch 16/1000\n",
      "60/60 - 0s - loss: 0.0143 - val_loss: 0.0139 - 70ms/epoch - 1ms/step\n",
      "Epoch 17/1000\n",
      "60/60 - 0s - loss: 0.0138 - val_loss: 0.0116 - 79ms/epoch - 1ms/step\n",
      "Epoch 18/1000\n",
      "60/60 - 0s - loss: 0.0129 - val_loss: 0.0121 - 72ms/epoch - 1ms/step\n",
      "Epoch 19/1000\n",
      "60/60 - 0s - loss: 0.0131 - val_loss: 0.0135 - 71ms/epoch - 1ms/step\n",
      "Epoch 20/1000\n",
      "60/60 - 0s - loss: 0.0127 - val_loss: 0.0118 - 70ms/epoch - 1ms/step\n",
      "Epoch 21/1000\n",
      "60/60 - 0s - loss: 0.0120 - val_loss: 0.0111 - 72ms/epoch - 1ms/step\n",
      "Epoch 22/1000\n",
      "60/60 - 0s - loss: 0.0120 - val_loss: 0.0107 - 73ms/epoch - 1ms/step\n",
      "Epoch 22: early stopping\n"
     ]
    },
    {
     "data": {
      "text/plain": [
       "<keras.src.callbacks.History at 0x2923b4730>"
      ]
     },
     "execution_count": 7,
     "metadata": {},
     "output_type": "execute_result"
    }
   ],
   "source": [
    "import pandas as pd\n",
    "import io\n",
    "import requests\n",
    "import numpy as np\n",
    "import os\n",
    "from sklearn.model_selection import train_test_split\n",
    "from sklearn import metrics\n",
    "from keras.models import Sequential\n",
    "from keras.layers import Dense, Activation\n",
    "from keras.callbacks import EarlyStopping\n",
    "\n",
    "# Break into X (predictors) & y (prediction)\n",
    "x, y = to_xy(dataset,'Label')\n",
    "\n",
    "# Create a test/train split.  25% test\n",
    "# Split into train/test\n",
    "x_train, x_test, y_train, y_test = train_test_split(\n",
    "    x, y, test_size=0.25, random_state=42)\n",
    "\n",
    "# Create neural net\n",
    "model = Sequential()\n",
    "model.add(Dense(10, input_dim=x.shape[1], kernel_initializer='normal', activation='relu'))\n",
    "model.add(Dense(50, input_dim=x.shape[1], kernel_initializer='normal', activation='relu'))\n",
    "model.add(Dense(10, input_dim=x.shape[1], kernel_initializer='normal', activation='relu'))\n",
    "model.add(Dense(1, kernel_initializer='normal'))\n",
    "model.add(Dense(y.shape[1],activation='softmax'))\n",
    "model.compile(loss='categorical_crossentropy', optimizer='adam')\n",
    "monitor = EarlyStopping(monitor='val_loss', min_delta=1e-3, patience=5, verbose=1, mode='auto')\n",
    "model.fit(x_train,y_train,validation_data=(x_test,y_test),callbacks=[monitor],verbose=2,epochs=1000)"
   ]
  },
  {
   "cell_type": "code",
   "execution_count": 8,
   "id": "27685326",
   "metadata": {},
   "outputs": [
    {
     "name": "stdout",
     "output_type": "stream",
     "text": [
      "20/20 [==============================] - 0s 612us/step\n",
      "Validation score: 0.9984202211690363\n"
     ]
    }
   ],
   "source": [
    "# Measure accuracy\n",
    "pred = model.predict(x_test)\n",
    "pred = np.argmax(pred,axis=1)\n",
    "y_eval = np.argmax(y_test,axis=1)\n",
    "score = metrics.accuracy_score(y_eval, pred)\n",
    "print(\"Validation score: {}\".format(score))"
   ]
  },
  {
   "cell_type": "code",
   "execution_count": null,
   "id": "3ae35d6d",
   "metadata": {},
   "outputs": [],
   "source": []
  }
 ],
 "metadata": {
  "kernelspec": {
   "display_name": "Python 3 (ipykernel)",
   "language": "python",
   "name": "python3"
  },
  "language_info": {
   "codemirror_mode": {
    "name": "ipython",
    "version": 3
   },
   "file_extension": ".py",
   "mimetype": "text/x-python",
   "name": "python",
   "nbconvert_exporter": "python",
   "pygments_lexer": "ipython3",
   "version": "3.9.13"
  }
 },
 "nbformat": 4,
 "nbformat_minor": 5
}
