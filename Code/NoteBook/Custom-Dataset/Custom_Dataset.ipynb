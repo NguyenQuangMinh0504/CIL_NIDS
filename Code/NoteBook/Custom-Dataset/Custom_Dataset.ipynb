{
 "cells": [
  {
   "cell_type": "code",
   "execution_count": 15,
   "id": "45854576",
   "metadata": {},
   "outputs": [],
   "source": [
    "import pandas as pd\n",
    "from sklearn import preprocessing\n",
    "import tensorflow as tf\n",
    "\n",
    "# display all columns\n",
    "pd.options.display.max_columns = None"
   ]
  },
  {
   "cell_type": "code",
   "execution_count": 16,
   "id": "3f64fd9e",
   "metadata": {},
   "outputs": [],
   "source": [
    "# Utils\n",
    "from sklearn import preprocessing\n",
    "def encode_text_index(df, name):\n",
    "    le = preprocessing.LabelEncoder()\n",
    "    df[name] = le.fit_transform(df[name])\n",
    "    return le.classes_\n",
    "# Encode a numeric column as zscores\n",
    "def encode_numeric_zscore(df, name, mean=None, sd=None):\n",
    "    if mean is None:\n",
    "        mean = df[name].mean()\n",
    "\n",
    "    if sd is None:\n",
    "        sd = df[name].std()\n",
    "\n",
    "    df[name] = (df[name] - mean) / sd\n",
    "# Encode text values to dummy variables(i.e. [1,0,0],[0,1,0],[0,0,1] for red,green,blue)\n",
    "def encode_text_dummy(df, name):\n",
    "    dummies = pd.get_dummies(df[name])\n",
    "    for x in dummies.columns:\n",
    "        dummy_name = f\"{name}-{x}\"\n",
    "        df[dummy_name] = dummies[x]\n",
    "    df.drop(name, axis=1, inplace=True)\n",
    "# Convert a Pandas dataframe to the x,y inputs that TensorFlow needs\n",
    "def to_xy(df, target):\n",
    "    result = []\n",
    "    for x in df.columns:\n",
    "        if x != target:\n",
    "            result.append(x)\n",
    "    # find out the type of the target column.  Is it really this hard? :(\n",
    "    target_type = df[target].dtypes\n",
    "    target_type = target_type[0] if hasattr(\n",
    "        target_type, '__iter__') else target_type\n",
    "    # Encode to int for classification, float otherwise. TensorFlow likes 32 bits.\n",
    "    if target_type in (np.int64, np.int32):\n",
    "        # Classification\n",
    "        dummies = pd.get_dummies(df[target])\n",
    "        return df[result].values.astype(np.float32), dummies.values.astype(np.float32)\n",
    "    # Regression\n",
    "    return df[result].values.astype(np.float32), df[[target]].values.astype(np.float32)"
   ]
  },
  {
   "cell_type": "code",
   "execution_count": 17,
   "id": "b5332c05",
   "metadata": {},
   "outputs": [
    {
     "data": {
      "text/plain": [
       "Malicious    1522\n",
       "Normal       1007\n",
       "Name: Label, dtype: int64"
      ]
     },
     "execution_count": 17,
     "metadata": {},
     "output_type": "execute_result"
    }
   ],
   "source": [
    "# Suggest labeling\n",
    "\n",
    "path = \"../../../Dataset/Custom_Dataset/capture.pcap_Flow.csv\"\n",
    "dataset = pd.read_csv(filepath_or_buffer=path)\n",
    "\n",
    "dataset[\"Label\"] = \"Normal\"\n",
    "dataset.loc[dataset[\"Src IP\"] == \"42.114.37.222\", \"Label\"] = \"Malicious\"\n",
    "dataset.loc[dataset[\"Dst IP\"] == \"42.114.37.222\", \"Label\"] = \"Malicious\"\n",
    "dataset[\"Label\"].value_counts()"
   ]
  },
  {
   "cell_type": "code",
   "execution_count": 22,
   "id": "003ffd53",
   "metadata": {},
   "outputs": [],
   "source": [
    "dataset.columns\n",
    "dataset.drop(columns=[\"Flow ID\", \"Src IP\", \"Dst IP\", \"Timestamp\"], inplace=True)"
   ]
  },
  {
   "cell_type": "code",
   "execution_count": 23,
   "id": "8650b39f",
   "metadata": {},
   "outputs": [],
   "source": [
    "for column in dataset.columns:\n",
    "    if column != \"Label\":\n",
    "        encode_numeric_zscore(dataset, column)\n",
    "    else:\n",
    "        encode_text_index(dataset, column)"
   ]
  },
  {
   "cell_type": "code",
   "execution_count": 24,
   "id": "1443ce13",
   "metadata": {},
   "outputs": [
    {
     "name": "stdout",
     "output_type": "stream",
     "text": [
      "Index(['Flow Bytes/s', 'Flow Packets/s', 'Bwd PSH Flags', 'Fwd URG Flags',\n",
      "       'Bwd URG Flags', 'URG Flag Count', 'CWR Flag Count', 'ECE Flag Count',\n",
      "       'Fwd Bytes/Bulk Avg', 'Fwd Packet/Bulk Avg', 'Fwd Bulk Rate Avg'],\n",
      "      dtype='object')\n"
     ]
    }
   ],
   "source": [
    "nan_columns = dataset.columns[dataset.isna().any()]\n",
    "print(nan_columns)\n",
    "dataset.drop(columns=nan_columns, inplace=True)"
   ]
  },
  {
   "cell_type": "code",
   "execution_count": 26,
   "id": "d6f116ee",
   "metadata": {},
   "outputs": [
    {
     "name": "stdout",
     "output_type": "stream",
     "text": [
      "Epoch 1/1000\n",
      "60/60 - 0s - loss: 0.6273 - val_loss: 0.4122 - 456ms/epoch - 8ms/step\n",
      "Epoch 2/1000\n",
      "60/60 - 0s - loss: 0.1974 - val_loss: 0.1162 - 71ms/epoch - 1ms/step\n",
      "Epoch 3/1000\n",
      "60/60 - 0s - loss: 0.0980 - val_loss: 0.0784 - 70ms/epoch - 1ms/step\n",
      "Epoch 4/1000\n",
      "60/60 - 0s - loss: 0.0722 - val_loss: 0.0611 - 70ms/epoch - 1ms/step\n",
      "Epoch 5/1000\n",
      "60/60 - 0s - loss: 0.0592 - val_loss: 0.0474 - 70ms/epoch - 1ms/step\n",
      "Epoch 6/1000\n",
      "60/60 - 0s - loss: 0.0523 - val_loss: 0.0413 - 71ms/epoch - 1ms/step\n",
      "Epoch 7/1000\n",
      "60/60 - 0s - loss: 0.0475 - val_loss: 0.0365 - 69ms/epoch - 1ms/step\n",
      "Epoch 8/1000\n",
      "60/60 - 0s - loss: 0.0438 - val_loss: 0.0339 - 69ms/epoch - 1ms/step\n",
      "Epoch 9/1000\n",
      "60/60 - 0s - loss: 0.0405 - val_loss: 0.0311 - 71ms/epoch - 1ms/step\n",
      "Epoch 10/1000\n",
      "60/60 - 0s - loss: 0.0388 - val_loss: 0.0289 - 71ms/epoch - 1ms/step\n",
      "Epoch 11/1000\n",
      "60/60 - 0s - loss: 0.0367 - val_loss: 0.0275 - 70ms/epoch - 1ms/step\n",
      "Epoch 12/1000\n",
      "60/60 - 0s - loss: 0.0355 - val_loss: 0.0276 - 70ms/epoch - 1ms/step\n",
      "Epoch 13/1000\n",
      "60/60 - 0s - loss: 0.0342 - val_loss: 0.0270 - 70ms/epoch - 1ms/step\n",
      "Epoch 14/1000\n",
      "60/60 - 0s - loss: 0.0334 - val_loss: 0.0266 - 69ms/epoch - 1ms/step\n",
      "Epoch 15/1000\n",
      "60/60 - 0s - loss: 0.0323 - val_loss: 0.0259 - 69ms/epoch - 1ms/step\n",
      "Epoch 16/1000\n",
      "60/60 - 0s - loss: 0.0317 - val_loss: 0.0253 - 69ms/epoch - 1ms/step\n",
      "Epoch 17/1000\n",
      "60/60 - 0s - loss: 0.0313 - val_loss: 0.0262 - 69ms/epoch - 1ms/step\n",
      "Epoch 18/1000\n",
      "60/60 - 0s - loss: 0.0303 - val_loss: 0.0249 - 68ms/epoch - 1ms/step\n",
      "Epoch 19/1000\n",
      "60/60 - 0s - loss: 0.0296 - val_loss: 0.0246 - 71ms/epoch - 1ms/step\n",
      "Epoch 20/1000\n",
      "60/60 - 0s - loss: 0.0289 - val_loss: 0.0230 - 68ms/epoch - 1ms/step\n",
      "Epoch 21/1000\n",
      "60/60 - 0s - loss: 0.0190 - val_loss: 0.0154 - 68ms/epoch - 1ms/step\n",
      "Epoch 22/1000\n",
      "60/60 - 0s - loss: 0.0156 - val_loss: 0.0134 - 69ms/epoch - 1ms/step\n",
      "Epoch 23/1000\n",
      "60/60 - 0s - loss: 0.0159 - val_loss: 0.0129 - 69ms/epoch - 1ms/step\n",
      "Epoch 24/1000\n",
      "60/60 - 0s - loss: 0.0141 - val_loss: 0.0123 - 68ms/epoch - 1ms/step\n",
      "Epoch 25/1000\n",
      "60/60 - 0s - loss: 0.0136 - val_loss: 0.0120 - 69ms/epoch - 1ms/step\n",
      "Epoch 26/1000\n",
      "60/60 - 0s - loss: 0.0135 - val_loss: 0.0116 - 69ms/epoch - 1ms/step\n",
      "Epoch 27/1000\n",
      "60/60 - 0s - loss: 0.0133 - val_loss: 0.0138 - 69ms/epoch - 1ms/step\n",
      "Epoch 28/1000\n",
      "60/60 - 0s - loss: 0.0125 - val_loss: 0.0110 - 69ms/epoch - 1ms/step\n",
      "Epoch 29/1000\n",
      "60/60 - 0s - loss: 0.0123 - val_loss: 0.0106 - 68ms/epoch - 1ms/step\n",
      "Epoch 30/1000\n",
      "60/60 - 0s - loss: 0.0128 - val_loss: 0.0112 - 68ms/epoch - 1ms/step\n",
      "Epoch 31/1000\n",
      "60/60 - 0s - loss: 0.0119 - val_loss: 0.0103 - 69ms/epoch - 1ms/step\n",
      "Epoch 32/1000\n",
      "60/60 - 0s - loss: 0.0114 - val_loss: 0.0121 - 69ms/epoch - 1ms/step\n",
      "Epoch 33/1000\n",
      "60/60 - 0s - loss: 0.0117 - val_loss: 0.0105 - 68ms/epoch - 1ms/step\n",
      "Epoch 33: early stopping\n"
     ]
    },
    {
     "data": {
      "text/plain": [
       "<keras.src.callbacks.History at 0x298458670>"
      ]
     },
     "execution_count": 26,
     "metadata": {},
     "output_type": "execute_result"
    }
   ],
   "source": [
    "import pandas as pd\n",
    "import io\n",
    "import requests\n",
    "import numpy as np\n",
    "import os\n",
    "from sklearn.model_selection import train_test_split\n",
    "from sklearn import metrics\n",
    "from keras.models import Sequential\n",
    "from keras.layers import Dense, Activation\n",
    "from keras.callbacks import EarlyStopping\n",
    "\n",
    "# Break into X (predictors) & y (prediction)\n",
    "x, y = to_xy(dataset,'Label')\n",
    "\n",
    "# Create a test/train split.  25% test\n",
    "# Split into train/test\n",
    "x_train, x_test, y_train, y_test = train_test_split(\n",
    "    x, y, test_size=0.25, random_state=42)\n",
    "\n",
    "# Create neural net\n",
    "model = Sequential()\n",
    "model.add(Dense(10, input_dim=x.shape[1], kernel_initializer='normal', activation='relu'))\n",
    "model.add(Dense(50, input_dim=x.shape[1], kernel_initializer='normal', activation='relu'))\n",
    "model.add(Dense(10, input_dim=x.shape[1], kernel_initializer='normal', activation='relu'))\n",
    "model.add(Dense(1, kernel_initializer='normal'))\n",
    "model.add(Dense(y.shape[1],activation='softmax'))\n",
    "model.compile(loss='categorical_crossentropy', optimizer='adam')\n",
    "monitor = EarlyStopping(monitor='val_loss', min_delta=1e-3, patience=5, verbose=1, mode='auto')\n",
    "model.fit(x_train,y_train,validation_data=(x_test,y_test),callbacks=[monitor],verbose=2,epochs=1000)"
   ]
  },
  {
   "cell_type": "code",
   "execution_count": 27,
   "id": "c811ff45",
   "metadata": {},
   "outputs": [
    {
     "name": "stdout",
     "output_type": "stream",
     "text": [
      "20/20 [==============================] - 0s 606us/step\n",
      "Validation score: 0.9984202211690363\n"
     ]
    }
   ],
   "source": [
    "# Measure accuracy\n",
    "pred = model.predict(x_test)\n",
    "pred = np.argmax(pred,axis=1)\n",
    "y_eval = np.argmax(y_test,axis=1)\n",
    "score = metrics.accuracy_score(y_eval, pred)\n",
    "print(\"Validation score: {}\".format(score))"
   ]
  },
  {
   "cell_type": "code",
   "execution_count": null,
   "id": "5ffb799d",
   "metadata": {},
   "outputs": [],
   "source": []
  }
 ],
 "metadata": {
  "kernelspec": {
   "display_name": "Python 3 (ipykernel)",
   "language": "python",
   "name": "python3"
  },
  "language_info": {
   "codemirror_mode": {
    "name": "ipython",
    "version": 3
   },
   "file_extension": ".py",
   "mimetype": "text/x-python",
   "name": "python",
   "nbconvert_exporter": "python",
   "pygments_lexer": "ipython3",
   "version": "3.9.13"
  }
 },
 "nbformat": 4,
 "nbformat_minor": 5
}
