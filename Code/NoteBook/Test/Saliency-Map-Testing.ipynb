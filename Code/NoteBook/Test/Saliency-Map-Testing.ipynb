{
 "cells": [
  {
   "cell_type": "code",
   "execution_count": 9,
   "id": "2084b611",
   "metadata": {},
   "outputs": [
    {
     "data": {
      "image/png": "[encoded data removed]",
      "text/plain": [
       "<Figure size 720x288 with 2 Axes>"
      ]
     },
     "metadata": {
      "needs_background": "light"
     },
     "output_type": "display_data"
    }
   ],
   "source": [
    "import tensorflow as tf\n",
    "import numpy as np\n",
    "import matplotlib.pyplot as plt\n",
    "\n",
    "# Generate a simple tabular dataset\n",
    "# Replace this with your own dataset\n",
    "# Assume X_train is your feature matrix and y_train is your target variable\n",
    "X_train = np.random.rand(100, 5)  # 100 samples, 5 features\n",
    "y_train = np.random.randint(2, size=(100,))\n",
    "\n",
    "# Define a simple neural network model\n",
    "model = tf.keras.Sequential([\n",
    "    tf.keras.layers.Dense(10, activation='relu', input_shape=(5,)),\n",
    "    tf.keras.layers.Dense(1, activation='sigmoid')\n",
    "])\n",
    "\n",
    "# Compile the model\n",
    "model.compile(optimizer='adam', loss='binary_crossentropy', metrics=['accuracy'])\n",
    "\n",
    "# Train the model\n",
    "model.fit(X_train, y_train, epochs=10, verbose=0)\n",
    "\n",
    "# Choose a sample from the training set\n",
    "sample_idx = 0\n",
    "input_data = X_train[sample_idx:sample_idx + 1]\n",
    "\n",
    "# Convert the NumPy array to a TensorFlow variable\n",
    "input_tensor = tf.Variable(input_data, dtype=tf.float32)\n",
    "\n",
    "# Record operations for automatic differentiation using tf.GradientTape\n",
    "with tf.GradientTape() as tape:\n",
    "    # Get the model's prediction for the input data\n",
    "    preds = model(input_tensor)\n",
    "    # Get the output score (e.g., for binary classification)\n",
    "    score = preds[0, 0]\n",
    "\n",
    "# Compute the gradient of the score with respect to the input data\n",
    "grads = tape.gradient(score, input_tensor)\n",
    "\n",
    "# Normalize the gradients\n",
    "grads /= tf.reduce_max(grads)\n",
    "\n",
    "# Convert the TensorFlow tensor to a NumPy array\n",
    "grads = grads.numpy()\n",
    "\n",
    "# Plot the original data and the saliency map\n",
    "plt.figure(figsize=(10, 4))\n",
    "plt.subplot(1, 2, 1)\n",
    "plt.bar(range(1, 6), input_data.flatten())\n",
    "plt.title('Input Data')\n",
    "plt.subplot(1, 2, 2)\n",
    "plt.bar(range(1, 6), grads.flatten(), color='red')\n",
    "plt.title('Saliency Map')\n",
    "plt.show()"
   ]
  },
  {
   "cell_type": "code",
   "execution_count": null,
   "id": "81e229b7",
   "metadata": {},
   "outputs": [],
   "source": []
  }
 ],
 "metadata": {
  "kernelspec": {
   "display_name": "Python 3 (ipykernel)",
   "language": "python",
   "name": "python3"
  },
  "language_info": {
   "codemirror_mode": {
    "name": "ipython",
    "version": 3
   },
   "file_extension": ".py",
   "mimetype": "text/x-python",
   "name": "python",
   "nbconvert_exporter": "python",
   "pygments_lexer": "ipython3",
   "version": "3.9.13"
  }
 },
 "nbformat": 4,
 "nbformat_minor": 5
}
