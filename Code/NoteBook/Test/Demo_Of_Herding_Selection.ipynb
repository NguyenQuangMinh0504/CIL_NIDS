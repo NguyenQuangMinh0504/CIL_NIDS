{
 "cells": [
  {
   "cell_type": "code",
   "execution_count": 26,
   "id": "bcd247d7-eaab-4e84-911d-8d3589305070",
   "metadata": {},
   "outputs": [],
   "source": [
    "# Create a vector\n",
    "import numpy as np\n",
    "vector = np.array([[1, 2, 3, 4, 5], [2, 3, 4, 5, 6]])\n",
    "EPSILON = 0.1"
   ]
  },
  {
   "cell_type": "code",
   "execution_count": 55,
   "id": "1bf2ce15-7255-4953-ae0e-69b6df3c367c",
   "metadata": {},
   "outputs": [
    {
     "name": "stdout",
     "output_type": "stream",
     "text": [
      "[[1 2 3 4 5]\n",
      " [2 3 4 5 6]]\n",
      "[[1 2]\n",
      " [2 3]\n",
      " [3 4]\n",
      " [4 5]\n",
      " [5 6]]\n",
      "(2, 5)\n"
     ]
    }
   ],
   "source": [
    "print(vector)\n",
    "print(vector.T)\n",
    "print(vector.shape)"
   ]
  },
  {
   "cell_type": "code",
   "execution_count": 64,
   "id": "63776d8f-3a22-4663-8e6f-bd0de7b1be42",
   "metadata": {},
   "outputs": [
    {
     "name": "stdout",
     "output_type": "stream",
     "text": [
      "[7.41619849 9.48683298]\n"
     ]
    }
   ],
   "source": [
    "print(np.linalg.norm(vector, aix"
   ]
  },
  {
   "cell_type": "code",
   "execution_count": 48,
   "id": "da0be641-ac54-4756-a54c-5c7c4f2f3d47",
   "metadata": {},
   "outputs": [
    {
     "name": "stdout",
     "output_type": "stream",
     "text": [
      "[[0.13304598 0.26609196 0.39913794 0.53218392 0.6652299 ]\n",
      " [0.20861947 0.3129292  0.41723894 0.52154867 0.62585841]]\n",
      "[2.23606798 3.60555128 5.         6.40312424 7.81024968]\n",
      "[[0.42806973 0.53973076 0.58823529 0.61508897 0.6320913 ]\n",
      " [0.85613947 0.80959614 0.78431373 0.76886121 0.75850956]]\n"
     ]
    }
   ],
   "source": [
    "print((vector.T / (np.linalg.norm(vector.T, axis=0) + EPSILON)).T)\n",
    "print(vector / (np.linalg.norm(vector, axis=0) + EPSILON))"
   ]
  },
  {
   "cell_type": "code",
   "execution_count": 58,
   "id": "048f17d2-f8d0-4b15-9168-800a8938d88e",
   "metadata": {},
   "outputs": [
    {
     "name": "stdout",
     "output_type": "stream",
     "text": [
      "[1.5 2.5 3.5 4.5 5.5]\n",
      "3.5\n",
      "[3. 4.]\n",
      "[[1 2 3 4 5]\n",
      " [2 3 4 5 6]]\n"
     ]
    }
   ],
   "source": [
    "print(np.mean(vector, axis=0))\n",
    "print(np.mean(vector))\n",
    "print(np.mean(vector, axis=1))\n",
    "print(vector)"
   ]
  },
  {
   "cell_type": "code",
   "execution_count": 9,
   "id": "bcf69108-5719-4daf-be9d-4f04a1297163",
   "metadata": {},
   "outputs": [
    {
     "name": "stdout",
     "output_type": "stream",
     "text": [
      "[2.23606798 3.60555128 5.         6.40312424 7.81024968]\n"
     ]
    }
   ],
   "source": [
    "print(np.linalg.norm(vector.T, axis=1))"
   ]
  },
  {
   "cell_type": "code",
   "execution_count": 10,
   "id": "14dbeb2f-2b13-4994-80c1-3bc7ea1b5475",
   "metadata": {},
   "outputs": [
    {
     "ename": "NameError",
     "evalue": "name 'sqrt' is not defined",
     "output_type": "error",
     "traceback": [
      "\u001b[0;31m---------------------------------------------------------------------------\u001b[0m",
      "\u001b[0;31mNameError\u001b[0m                                 Traceback (most recent call last)",
      "Cell \u001b[0;32mIn[10], line 1\u001b[0m\n\u001b[0;32m----> 1\u001b[0m \u001b[38;5;28mprint\u001b[39m(\u001b[43msqrt\u001b[49m(\u001b[38;5;241m5\u001b[39m))\n",
      "\u001b[0;31mNameError\u001b[0m: name 'sqrt' is not defined"
     ]
    }
   ],
   "source": [
    "print(sqrt(5))"
   ]
  },
  {
   "cell_type": "code",
   "execution_count": 13,
   "id": "855053f0-9a99-4f9a-a6f7-b4e76c46b3ee",
   "metadata": {},
   "outputs": [
    {
     "name": "stdout",
     "output_type": "stream",
     "text": [
      "7.416198487095663\n"
     ]
    }
   ],
   "source": [
    "from math import sqrt\n",
    "print(sqrt(1 + 4 + 9 + 16 + 25))"
   ]
  },
  {
   "cell_type": "code",
   "execution_count": 79,
   "id": "641576fa-2811-4c7d-b552-962a8c622eeb",
   "metadata": {},
   "outputs": [],
   "source": [
    "vector = [[[1, 2], [1, 2], [1, 3]],\n",
    "     [[2, 3], [2, 3], [3, 4]]]"
   ]
  },
  {
   "cell_type": "code",
   "execution_count": 80,
   "id": "b792ff54-946b-4317-854d-f09c2b2b5bb9",
   "metadata": {},
   "outputs": [
    {
     "name": "stdout",
     "output_type": "stream",
     "text": [
      "[[[1, 2], [1, 2], [1, 3]], [[2, 3], [2, 3], [3, 4]]]\n"
     ]
    }
   ],
   "source": [
    "print(a)"
   ]
  },
  {
   "cell_type": "code",
   "execution_count": 90,
   "id": "4bb74010-b75d-4f53-961c-3aaa6f2f7e53",
   "metadata": {},
   "outputs": [
    {
     "data": {
      "text/plain": [
       "(2, 3)"
      ]
     },
     "execution_count": 90,
     "metadata": {},
     "output_type": "execute_result"
    }
   ],
   "source": [
    "a[0][0][0], a[1][0][0]\n",
    "a[0][0][1], a[1][0][1]"
   ]
  },
  {
   "cell_type": "code",
   "execution_count": 91,
   "id": "3f883483-ef0d-4f05-9c9c-ddcdb8532853",
   "metadata": {},
   "outputs": [
    {
     "name": "stdout",
     "output_type": "stream",
     "text": [
      "[[1.5 2.5]\n",
      " [1.5 2.5]\n",
      " [2.  3.5]]\n"
     ]
    }
   ],
   "source": [
    "class_mean = np.mean(vector, axis=0)\n",
    "print(class_mean)"
   ]
  },
  {
   "cell_type": "code",
   "execution_count": 93,
   "id": "4c482114-926f-4870-9b4e-71f1b7b35b25",
   "metadata": {},
   "outputs": [
    {
     "name": "stdout",
     "output_type": "stream",
     "text": [
      "[ 8.5   8.5  16.25]\n"
     ]
    }
   ],
   "source": [
    "Mu_P = 0\n",
    "print(np.sum((class_mean - Mu_P) ** 2, axis=1))"
   ]
  },
  {
   "cell_type": "code",
   "execution_count": 94,
   "id": "bbea2f35-3801-4c39-84e6-523f61adcec3",
   "metadata": {},
   "outputs": [
    {
     "data": {
      "text/plain": [
       "array([[ 2.25,  6.25],\n",
       "       [ 2.25,  6.25],\n",
       "       [ 4.  , 12.25]])"
      ]
     },
     "execution_count": 94,
     "metadata": {},
     "output_type": "execute_result"
    }
   ],
   "source": [
    "(class_mean - Mu_P) ** 2"
   ]
  },
  {
   "cell_type": "code",
   "execution_count": 99,
   "id": "fd6c7a32-5ac2-4cd0-825e-8f2b5fa714f1",
   "metadata": {},
   "outputs": [
    {
     "name": "stdout",
     "output_type": "stream",
     "text": [
      "1\n"
     ]
    }
   ],
   "source": [
    "print(np.argmin([5, 1, 2, 3, 4]))"
   ]
  },
  {
   "cell_type": "code",
   "execution_count": null,
   "id": "2a12f99b-09d2-4d94-bfb0-2081a292f2c7",
   "metadata": {},
   "outputs": [],
   "source": []
  }
 ],
 "metadata": {
  "kernelspec": {
   "display_name": "Python 3 (ipykernel)",
   "language": "python",
   "name": "python3"
  },
  "language_info": {
   "codemirror_mode": {
    "name": "ipython",
    "version": 3
   },
   "file_extension": ".py",
   "mimetype": "text/x-python",
   "name": "python",
   "nbconvert_exporter": "python",
   "pygments_lexer": "ipython3",
   "version": "3.11.8"
  }
 },
 "nbformat": 4,
 "nbformat_minor": 5
}
