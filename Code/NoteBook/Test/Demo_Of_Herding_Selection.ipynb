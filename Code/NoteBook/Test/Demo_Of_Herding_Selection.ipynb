{
 "cells": [
  {
   "cell_type": "code",
   "execution_count": 16,
   "id": "bcd247d7-eaab-4e84-911d-8d3589305070",
   "metadata": {},
   "outputs": [
    {
     "name": "stdout",
     "output_type": "stream",
     "text": [
      "[[0.09685925 0.07909643 0.1948896  ... 0.05514409 0.15274036 0.05978436]\n",
      " [0.07100212 0.08483002 0.14226438 ... 0.02595736 0.13500185 0.15577939]\n",
      " [0.11270325 0.12375291 0.15599901 ... 0.1954221  0.21673299 0.11130564]\n",
      " ...\n",
      " [0.11225814 0.06502016 0.06637805 ... 0.20953829 0.02300091 0.09898459]\n",
      " [0.06046909 0.178539   0.13816568 ... 0.17772681 0.04686039 0.03997699]\n",
      " [0.11702067 0.18555473 0.09075857 ... 0.03696871 0.09614097 0.12914416]]\n",
      "[0.51103822 0.49765367 0.50679676 0.48454722 0.50897643 0.50685621\n",
      " 0.50369895 0.50882555 0.48668352 0.4878985  0.49298123 0.49263153\n",
      " 0.51099444 0.49372701 0.49489706 0.49357315 0.49831027 0.50726454\n",
      " 0.49526819 0.5013773  0.49638684 0.4967407  0.50418502 0.49964039\n",
      " 0.49583617 0.49112401 0.48808059 0.51497486 0.49017909 0.50525893\n",
      " 0.49407252 0.49765245 0.50958954 0.48644451 0.50183674 0.50924742\n",
      " 0.50335254 0.50702181 0.50665693 0.49589759 0.4841946  0.50172108\n",
      " 0.50649112 0.51074779 0.49809629 0.50226899 0.50738059 0.50614809\n",
      " 0.51046229 0.49731389 0.500156   0.48065486 0.49513994 0.50335681\n",
      " 0.50674769 0.49181547 0.49661623 0.50810886 0.49946015 0.50769084\n",
      " 0.50229539 0.48237674 0.5133818  0.4977952 ]\n"
     ]
    }
   ],
   "source": [
    "# Create a vector\n",
    "data = np.random.rand(1000, 64)\n",
    "import numpy as np\n",
    "vectors = np.array([[1, 2, 3, 4, 5], [2, 3, 4, 5, 6]])\n",
    "vectors = np.random.rand(1000, 64)\n",
    "EPSILON = 0.1\n",
    "print((vector.T / (np.linalg.norm(vector.T, axis=0) + EPSILON)).T)\n",
    "m = 100\n",
    "class_mean = np.mean(vectors, axis=0)\n",
    "\n",
    "\n",
    "print(class_mean)"
   ]
  },
  {
   "cell_type": "code",
   "execution_count": 17,
   "id": "da0be641-ac54-4756-a54c-5c7c4f2f3d47",
   "metadata": {},
   "outputs": [
    {
     "name": "stdout",
     "output_type": "stream",
     "text": [
      "1\n",
      "2\n",
      "3\n",
      "4\n",
      "5\n",
      "6\n",
      "7\n",
      "8\n",
      "9\n",
      "10\n",
      "11\n",
      "12\n",
      "13\n",
      "14\n",
      "15\n",
      "16\n",
      "17\n",
      "18\n",
      "19\n",
      "20\n",
      "21\n",
      "22\n",
      "23\n",
      "24\n",
      "25\n",
      "26\n",
      "27\n",
      "28\n",
      "29\n",
      "30\n",
      "31\n",
      "32\n",
      "33\n",
      "34\n",
      "35\n",
      "36\n",
      "37\n",
      "38\n",
      "39\n",
      "40\n",
      "41\n",
      "42\n",
      "43\n",
      "44\n",
      "45\n",
      "46\n",
      "47\n",
      "48\n",
      "49\n",
      "50\n",
      "51\n",
      "52\n",
      "53\n",
      "54\n",
      "55\n",
      "56\n",
      "57\n",
      "58\n",
      "59\n",
      "60\n",
      "61\n",
      "62\n",
      "63\n",
      "64\n",
      "65\n",
      "66\n",
      "67\n",
      "68\n",
      "69\n",
      "70\n",
      "71\n",
      "72\n",
      "73\n",
      "74\n",
      "75\n",
      "76\n",
      "77\n",
      "78\n",
      "79\n",
      "80\n",
      "81\n",
      "82\n",
      "83\n",
      "84\n",
      "85\n",
      "86\n",
      "87\n",
      "88\n",
      "89\n",
      "90\n",
      "91\n",
      "92\n",
      "93\n",
      "94\n",
      "95\n",
      "96\n",
      "97\n",
      "98\n",
      "99\n",
      "100\n"
     ]
    }
   ],
   "source": [
    "# Select\n",
    "selected_exemplars = []\n",
    "exemplar_vectors = []\n",
    "for k in range(1, m + 1):\n",
    "    print(k)\n",
    "    S = np.sum(exemplar_vectors, axis=0)  # [feature_dim] sum of selected exemplars vectors\n",
    "    mu_p = (vectors + S) / k  # [n, feature_dim] sum to all vectors\n",
    "    i = np.argmin(np.sqrt(np.sum((class_mean - mu_p) ** 2, axis=1)))\n",
    "\n",
    "    selected_exemplars.append(np.array(data[i]))  # new object to avoid passing by inference\n",
    "    exemplar_vectors.append(np.array(vectors[i]))  # new object to avoid passing by inference\n",
    "    vectors = np.delete(vectors, i, axis=0)  # Remove it to avoid duplicative selection\n",
    "    data = np.delete(data, i, axis=0)  # Remove it to avoid duplicative selection\n",
    "selected_exemplars = np.array(selected_exemplars)\n",
    "# exemplar_targets = np.full(m, class_idx)"
   ]
  },
  {
   "cell_type": "code",
   "execution_count": null,
   "id": "221fe823-60e3-4ce0-8dc3-ab4067a8ddd5",
   "metadata": {},
   "outputs": [],
   "source": []
  },
  {
   "cell_type": "code",
   "execution_count": null,
   "id": "bcf69108-5719-4daf-be9d-4f04a1297163",
   "metadata": {},
   "outputs": [],
   "source": [
    "print(np.linalg.norm(vector.T, axis=1))"
   ]
  },
  {
   "cell_type": "code",
   "execution_count": 4,
   "id": "14dbeb2f-2b13-4994-80c1-3bc7ea1b5475",
   "metadata": {},
   "outputs": [
    {
     "ename": "NameError",
     "evalue": "name 'sqrt' is not defined",
     "output_type": "error",
     "traceback": [
      "\u001b[0;31m---------------------------------------------------------------------------\u001b[0m",
      "\u001b[0;31mNameError\u001b[0m                                 Traceback (most recent call last)",
      "Cell \u001b[0;32mIn[4], line 1\u001b[0m\n\u001b[0;32m----> 1\u001b[0m \u001b[38;5;28mprint\u001b[39m(\u001b[43msqrt\u001b[49m(\u001b[38;5;241m5\u001b[39m))\n",
      "\u001b[0;31mNameError\u001b[0m: name 'sqrt' is not defined"
     ]
    }
   ],
   "source": [
    "print(sqrt(5))"
   ]
  },
  {
   "cell_type": "code",
   "execution_count": 5,
   "id": "855053f0-9a99-4f9a-a6f7-b4e76c46b3ee",
   "metadata": {},
   "outputs": [
    {
     "name": "stdout",
     "output_type": "stream",
     "text": [
      "7.416198487095663\n"
     ]
    }
   ],
   "source": [
    "from math import sqrt\n",
    "print(sqrt(1 + 4 + 9 + 16 + 25))"
   ]
  },
  {
   "cell_type": "code",
   "execution_count": 6,
   "id": "641576fa-2811-4c7d-b552-962a8c622eeb",
   "metadata": {},
   "outputs": [],
   "source": [
    "vector = [[[1, 2], [1, 2], [1, 3]],\n",
    "     [[2, 3], [2, 3], [3, 4]]]"
   ]
  },
  {
   "cell_type": "code",
   "execution_count": 7,
   "id": "b792ff54-946b-4317-854d-f09c2b2b5bb9",
   "metadata": {},
   "outputs": [
    {
     "ename": "NameError",
     "evalue": "name 'a' is not defined",
     "output_type": "error",
     "traceback": [
      "\u001b[0;31m---------------------------------------------------------------------------\u001b[0m",
      "\u001b[0;31mNameError\u001b[0m                                 Traceback (most recent call last)",
      "Cell \u001b[0;32mIn[7], line 1\u001b[0m\n\u001b[0;32m----> 1\u001b[0m \u001b[38;5;28mprint\u001b[39m(\u001b[43ma\u001b[49m)\n",
      "\u001b[0;31mNameError\u001b[0m: name 'a' is not defined"
     ]
    }
   ],
   "source": [
    "print(a)"
   ]
  },
  {
   "cell_type": "code",
   "execution_count": 8,
   "id": "4bb74010-b75d-4f53-961c-3aaa6f2f7e53",
   "metadata": {},
   "outputs": [
    {
     "ename": "NameError",
     "evalue": "name 'a' is not defined",
     "output_type": "error",
     "traceback": [
      "\u001b[0;31m---------------------------------------------------------------------------\u001b[0m",
      "\u001b[0;31mNameError\u001b[0m                                 Traceback (most recent call last)",
      "Cell \u001b[0;32mIn[8], line 1\u001b[0m\n\u001b[0;32m----> 1\u001b[0m \u001b[43ma\u001b[49m[\u001b[38;5;241m0\u001b[39m][\u001b[38;5;241m0\u001b[39m][\u001b[38;5;241m0\u001b[39m], a[\u001b[38;5;241m1\u001b[39m][\u001b[38;5;241m0\u001b[39m][\u001b[38;5;241m0\u001b[39m]\n\u001b[1;32m      2\u001b[0m a[\u001b[38;5;241m0\u001b[39m][\u001b[38;5;241m0\u001b[39m][\u001b[38;5;241m1\u001b[39m], a[\u001b[38;5;241m1\u001b[39m][\u001b[38;5;241m0\u001b[39m][\u001b[38;5;241m1\u001b[39m]\n",
      "\u001b[0;31mNameError\u001b[0m: name 'a' is not defined"
     ]
    }
   ],
   "source": [
    "a[0][0][0], a[1][0][0]\n",
    "a[0][0][1], a[1][0][1]"
   ]
  },
  {
   "cell_type": "code",
   "execution_count": 9,
   "id": "3f883483-ef0d-4f05-9c9c-ddcdb8532853",
   "metadata": {},
   "outputs": [
    {
     "name": "stdout",
     "output_type": "stream",
     "text": [
      "[[1.5 2.5]\n",
      " [1.5 2.5]\n",
      " [2.  3.5]]\n"
     ]
    }
   ],
   "source": [
    "class_mean = np.mean(vector, axis=0)\n",
    "print(class_mean)"
   ]
  },
  {
   "cell_type": "code",
   "execution_count": 10,
   "id": "4c482114-926f-4870-9b4e-71f1b7b35b25",
   "metadata": {},
   "outputs": [
    {
     "name": "stdout",
     "output_type": "stream",
     "text": [
      "[ 8.5   8.5  16.25]\n"
     ]
    }
   ],
   "source": [
    "Mu_P = 0\n",
    "print(np.sum((class_mean - Mu_P) ** 2, axis=1))"
   ]
  },
  {
   "cell_type": "code",
   "execution_count": 11,
   "id": "bbea2f35-3801-4c39-84e6-523f61adcec3",
   "metadata": {},
   "outputs": [
    {
     "data": {
      "text/plain": [
       "array([[ 2.25,  6.25],\n",
       "       [ 2.25,  6.25],\n",
       "       [ 4.  , 12.25]])"
      ]
     },
     "execution_count": 11,
     "metadata": {},
     "output_type": "execute_result"
    }
   ],
   "source": [
    "(class_mean - Mu_P) ** 2"
   ]
  },
  {
   "cell_type": "code",
   "execution_count": 12,
   "id": "fd6c7a32-5ac2-4cd0-825e-8f2b5fa714f1",
   "metadata": {},
   "outputs": [
    {
     "name": "stdout",
     "output_type": "stream",
     "text": [
      "1\n"
     ]
    }
   ],
   "source": [
    "print(np.argmin([5, 1, 2, 3, 4]))"
   ]
  },
  {
   "cell_type": "code",
   "execution_count": null,
   "id": "2a12f99b-09d2-4d94-bfb0-2081a292f2c7",
   "metadata": {},
   "outputs": [],
   "source": []
  }
 ],
 "metadata": {
  "kernelspec": {
   "display_name": "Python 3 (ipykernel)",
   "language": "python",
   "name": "python3"
  },
  "language_info": {
   "codemirror_mode": {
    "name": "ipython",
    "version": 3
   },
   "file_extension": ".py",
   "mimetype": "text/x-python",
   "name": "python",
   "nbconvert_exporter": "python",
   "pygments_lexer": "ipython3",
   "version": "3.11.8"
  }
 },
 "nbformat": 4,
 "nbformat_minor": 5
}
