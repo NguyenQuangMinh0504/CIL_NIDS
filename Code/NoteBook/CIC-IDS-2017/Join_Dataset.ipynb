{
 "cells": [
  {
   "cell_type": "code",
   "execution_count": 1,
   "id": "43846ac4",
   "metadata": {},
   "outputs": [],
   "source": [
    "import pandas as pd"
   ]
  },
  {
   "cell_type": "code",
   "execution_count": 6,
   "id": "58ab4184",
   "metadata": {},
   "outputs": [],
   "source": [
    "monday_working_path = \"../../../Dataset/CIC-IDS-2017/Monday-WorkingHours.pcap_ISCX.csv\"\n",
    "tuesday_working_hours_path = \"../../../Dataset/CIC-IDS-2017/Tuesday-WorkingHours.pcap_ISCX.csv\"\n",
    "wednesday_working_hours_path = \"../../../Dataset/CIC-IDS-2017/Wednesday-workingHours.pcap_ISCX.csv\"\n",
    "thursday_working_hours_morning_web_attacks_path = \"../../../Dataset/CIC-IDS-2017/Thursday-WorkingHours-Morning-WebAttacks.pcap_ISCX.csv\"\n",
    "thursday_working_hours_afternoon_infilteration_path = \"../../../Dataset/CIC-IDS-2017/Thursday-WorkingHours-Afternoon-Infilteration.pcap_ISCX.csv\"\n",
    "friday_working_hours_morning_path = \"../../../Dataset/CIC-IDS-2017/Friday-WorkingHours-Morning.pcap_ISCX.csv\"\n",
    "friday_working_hours_afternoon_ddos_path = \"../../../Dataset/CIC-IDS-2017/Friday-WorkingHours-Afternoon-DDos.pcap_ISCX.csv\"\n",
    "friday_working_hours_afternoon_port_scan_path = \"../../../Dataset/CIC-IDS-2017/Friday-WorkingHours-Afternoon-PortScan.pcap_ISCX.csv\"\n",
    "\n",
    "monday_table = pd.read_csv(monday_working_path)\n",
    "tuesday_table = pd.read_csv(tuesday_working_hours_path)\n",
    "wednesday_table = pd.read_csv(wednesday_working_hours_path)\n",
    "thursday_morning_table = pd.read_csv(thursday_working_hours_morning_web_attacks_path) \n",
    "# Got error UnicodeDecodeError: 'utf-8' codec can't decode byte 0x96 in position 22398: invalid start byte\n",
    "# thursday_morning_table = pd.read_csv(thursday_working_hours_morning_web_attacks_path, encoding=\"cp1252\")\n",
    "thurdays_afternoon_table = pd.read_csv(thursday_working_hours_afternoon_infilteration_path)\n",
    "friday_morning_table = pd.read_csv(friday_working_hours_morning_path)\n",
    "friday_afternoon_ddos_table = pd.read_csv(friday_working_hours_afternoon_ddos_path)\n",
    "friday_afternoon_port_scan_table = pd.read_csv(friday_working_hours_afternoon_port_scan_path)\n",
    "\n",
    "dataset = pd.concat(objs=[monday_table, tuesday_table, wednesday_table, thursday_morning_table, thurdays_afternoon_table,\n",
    "                          friday_morning_table, friday_afternoon_ddos_table, friday_afternoon_port_scan_table])"
   ]
  },
  {
   "cell_type": "code",
   "execution_count": 20,
   "id": "eb35404f",
   "metadata": {},
   "outputs": [
    {
     "data": {
      "text/plain": [
       "Index([' Destination Port', ' Flow Duration', ' Total Fwd Packets',\n",
       "       ' Total Backward Packets', 'Total Length of Fwd Packets',\n",
       "       ' Total Length of Bwd Packets', ' Fwd Packet Length Max',\n",
       "       ' Fwd Packet Length Min', ' Fwd Packet Length Mean',\n",
       "       ' Fwd Packet Length Std', 'Bwd Packet Length Max',\n",
       "       ' Bwd Packet Length Min', ' Bwd Packet Length Mean',\n",
       "       ' Bwd Packet Length Std', 'Flow Bytes/s', ' Flow Packets/s',\n",
       "       ' Flow IAT Mean', ' Flow IAT Std', ' Flow IAT Max', ' Flow IAT Min',\n",
       "       'Fwd IAT Total', ' Fwd IAT Mean', ' Fwd IAT Std', ' Fwd IAT Max',\n",
       "       ' Fwd IAT Min', 'Bwd IAT Total', ' Bwd IAT Mean', ' Bwd IAT Std',\n",
       "       ' Bwd IAT Max', ' Bwd IAT Min', 'Fwd PSH Flags', ' Bwd PSH Flags',\n",
       "       ' Fwd URG Flags', ' Bwd URG Flags', ' Fwd Header Length',\n",
       "       ' Bwd Header Length', 'Fwd Packets/s', ' Bwd Packets/s',\n",
       "       ' Min Packet Length', ' Max Packet Length', ' Packet Length Mean',\n",
       "       ' Packet Length Std', ' Packet Length Variance', 'FIN Flag Count',\n",
       "       ' SYN Flag Count', ' RST Flag Count', ' PSH Flag Count',\n",
       "       ' ACK Flag Count', ' URG Flag Count', ' CWE Flag Count',\n",
       "       ' ECE Flag Count', ' Down/Up Ratio', ' Average Packet Size',\n",
       "       ' Avg Fwd Segment Size', ' Avg Bwd Segment Size',\n",
       "       ' Fwd Header Length.1', 'Fwd Avg Bytes/Bulk', ' Fwd Avg Packets/Bulk',\n",
       "       ' Fwd Avg Bulk Rate', ' Bwd Avg Bytes/Bulk', ' Bwd Avg Packets/Bulk',\n",
       "       'Bwd Avg Bulk Rate', 'Subflow Fwd Packets', ' Subflow Fwd Bytes',\n",
       "       ' Subflow Bwd Packets', ' Subflow Bwd Bytes', 'Init_Win_bytes_forward',\n",
       "       ' Init_Win_bytes_backward', ' act_data_pkt_fwd',\n",
       "       ' min_seg_size_forward', 'Active Mean', ' Active Std', ' Active Max',\n",
       "       ' Active Min', 'Idle Mean', ' Idle Std', ' Idle Max', ' Idle Min',\n",
       "       ' Label'],\n",
       "      dtype='object')"
      ]
     },
     "execution_count": 20,
     "metadata": {},
     "output_type": "execute_result"
    }
   ],
   "source": [
    "dataset.columns"
   ]
  },
  {
   "cell_type": "code",
   "execution_count": null,
   "id": "da89608c",
   "metadata": {},
   "outputs": [],
   "source": []
  }
 ],
 "metadata": {
  "kernelspec": {
   "display_name": "Python 3 (ipykernel)",
   "language": "python",
   "name": "python3"
  },
  "language_info": {
   "codemirror_mode": {
    "name": "ipython",
    "version": 3
   },
   "file_extension": ".py",
   "mimetype": "text/x-python",
   "name": "python",
   "nbconvert_exporter": "python",
   "pygments_lexer": "ipython3",
   "version": "3.9.13"
  }
 },
 "nbformat": 4,
 "nbformat_minor": 5
}
