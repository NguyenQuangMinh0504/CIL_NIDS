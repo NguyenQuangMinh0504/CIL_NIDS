{
 "cells": [
  {
   "cell_type": "code",
   "execution_count": 1,
   "id": "fd5bbe4b-bee7-43ac-b3e0-c484a1639ba9",
   "metadata": {},
   "outputs": [
    {
     "name": "stderr",
     "output_type": "stream",
     "text": [
      "/var/folders/7w/2j_g09_j491gg_pz45w_m11r0000gn/T/ipykernel_23527/4080736814.py:1: DeprecationWarning: \n",
      "Pyarrow will become a required dependency of pandas in the next major release of pandas (pandas 3.0),\n",
      "(to allow more performant data types, such as the Arrow string type, and better interoperability with other libraries)\n",
      "but was not found to be installed on your system.\n",
      "If this would cause problems for you,\n",
      "please provide us feedback at https://github.com/pandas-dev/pandas/issues/54466\n",
      "        \n",
      "  import pandas as pd\n"
     ]
    }
   ],
   "source": [
    "import pandas as pd"
   ]
  },
  {
   "cell_type": "code",
   "execution_count": 2,
   "id": "fa20e669-8f07-4451-93f7-74e3f70ff941",
   "metadata": {},
   "outputs": [],
   "source": [
    "test1 = pd.read_csv(\"/Users/minhnguyenquang/Desktop/TrafficLabelling/Friday-WorkingHours-Afternoon-DDos.pcap_ISCX.csv\")"
   ]
  },
  {
   "cell_type": "code",
   "execution_count": 4,
   "id": "26b46d61-5eed-4520-9ce1-e09320f16635",
   "metadata": {},
   "outputs": [
    {
     "data": {
      "text/plain": [
       "85"
      ]
     },
     "execution_count": 4,
     "metadata": {},
     "output_type": "execute_result"
    }
   ],
   "source": [
    "len(test1.columns)"
   ]
  },
  {
   "cell_type": "code",
   "execution_count": 5,
   "id": "34041782-6a63-4da5-af88-97949fcc865f",
   "metadata": {},
   "outputs": [],
   "source": [
    "test2 = pd.read_csv(\"/Users/minhnguyenquang/Desktop/MachineLearningCVE/Friday-WorkingHours-Afternoon-DDos.pcap_ISCX.csv\")"
   ]
  },
  {
   "cell_type": "code",
   "execution_count": 6,
   "id": "c982580e-8244-48bb-b6fa-0b2646ad1b42",
   "metadata": {},
   "outputs": [
    {
     "data": {
      "text/plain": [
       "79"
      ]
     },
     "execution_count": 6,
     "metadata": {},
     "output_type": "execute_result"
    }
   ],
   "source": [
    "len(test2.columns)"
   ]
  },
  {
   "cell_type": "code",
   "execution_count": null,
   "id": "38f8d733-0ef8-454a-bb49-ccbd714abec3",
   "metadata": {},
   "outputs": [],
   "source": []
  }
 ],
 "metadata": {
  "kernelspec": {
   "display_name": "Python 3 (ipykernel)",
   "language": "python",
   "name": "python3"
  },
  "language_info": {
   "codemirror_mode": {
    "name": "ipython",
    "version": 3
   },
   "file_extension": ".py",
   "mimetype": "text/x-python",
   "name": "python",
   "nbconvert_exporter": "python",
   "pygments_lexer": "ipython3",
   "version": "3.11.8"
  }
 },
 "nbformat": 4,
 "nbformat_minor": 5
}
