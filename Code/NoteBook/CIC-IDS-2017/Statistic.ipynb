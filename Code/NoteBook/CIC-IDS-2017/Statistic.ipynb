{
 "cells": [
  {
   "cell_type": "code",
   "execution_count": 1,
   "id": "d8946e49",
   "metadata": {},
   "outputs": [],
   "source": [
    "import pandas as pd"
   ]
  },
  {
   "cell_type": "code",
   "execution_count": 2,
   "id": "9510a43d",
   "metadata": {},
   "outputs": [],
   "source": [
    "path = \"../../../Dataset/CICDataset/CIC-IDS-2017/TrafficLabelling/Wednesday-workingHours.pcap_ISCX.csv\"\n",
    "dataset = pd.read_csv(path)"
   ]
  },
  {
   "cell_type": "code",
   "execution_count": 5,
   "id": "ff3ee568",
   "metadata": {},
   "outputs": [
    {
     "name": "stdout",
     "output_type": "stream",
     "text": [
      "Total number of features: 85\n",
      "List of features: \n",
      "Flow ID\n",
      "Source IP\n",
      "Source Port\n",
      "Destination IP\n",
      "Destination Port\n",
      "Protocol\n",
      "Timestamp\n",
      "Flow Duration\n",
      "Total Fwd Packets\n",
      "Total Backward Packets\n",
      "Total Length of Fwd Packets\n",
      "Total Length of Bwd Packets\n",
      "Fwd Packet Length Max\n",
      "Fwd Packet Length Min\n",
      "Fwd Packet Length Mean\n",
      "Fwd Packet Length Std\n",
      "Bwd Packet Length Max\n",
      "Bwd Packet Length Min\n",
      "Bwd Packet Length Mean\n",
      "Bwd Packet Length Std\n",
      "Flow Bytes/s\n",
      "Flow Packets/s\n",
      "Flow IAT Mean\n",
      "Flow IAT Std\n",
      "Flow IAT Max\n",
      "Flow IAT Min\n",
      "Fwd IAT Total\n",
      "Fwd IAT Mean\n",
      "Fwd IAT Std\n",
      "Fwd IAT Max\n",
      "Fwd IAT Min\n",
      "Bwd IAT Total\n",
      "Bwd IAT Mean\n",
      "Bwd IAT Std\n",
      "Bwd IAT Max\n",
      "Bwd IAT Min\n",
      "Fwd PSH Flags\n",
      "Bwd PSH Flags\n",
      "Fwd URG Flags\n",
      "Bwd URG Flags\n",
      "Fwd Header Length\n",
      "Bwd Header Length\n",
      "Fwd Packets/s\n",
      "Bwd Packets/s\n",
      "Min Packet Length\n",
      "Max Packet Length\n",
      "Packet Length Mean\n",
      "Packet Length Std\n",
      "Packet Length Variance\n",
      "FIN Flag Count\n",
      "SYN Flag Count\n",
      "RST Flag Count\n",
      "PSH Flag Count\n",
      "ACK Flag Count\n",
      "URG Flag Count\n",
      "CWE Flag Count\n",
      "ECE Flag Count\n",
      "Down/Up Ratio\n",
      "Average Packet Size\n",
      "Avg Fwd Segment Size\n",
      "Avg Bwd Segment Size\n",
      "Fwd Header Length.1\n",
      "Fwd Avg Bytes/Bulk\n",
      "Fwd Avg Packets/Bulk\n",
      "Fwd Avg Bulk Rate\n",
      "Bwd Avg Bytes/Bulk\n",
      "Bwd Avg Packets/Bulk\n",
      "Bwd Avg Bulk Rate\n",
      "Subflow Fwd Packets\n",
      "Subflow Fwd Bytes\n",
      "Subflow Bwd Packets\n",
      "Subflow Bwd Bytes\n",
      "Init_Win_bytes_forward\n",
      "Init_Win_bytes_backward\n",
      "act_data_pkt_fwd\n",
      "min_seg_size_forward\n",
      "Active Mean\n",
      "Active Std\n",
      "Active Max\n",
      "Active Min\n",
      "Idle Mean\n",
      "Idle Std\n",
      "Idle Max\n",
      "Idle Min\n",
      "Label\n"
     ]
    }
   ],
   "source": [
    "print(f\"Total number of features: {len(dataset.columns)}\")\n",
    "print(\"List of features: \")\n",
    "for i in dataset.columns:\n",
    "    print(i.strip())"
   ]
  },
  {
   "cell_type": "code",
   "execution_count": 4,
   "id": "905f9d28",
   "metadata": {},
   "outputs": [
    {
     "name": "stdout",
     "output_type": "stream",
     "text": [
      "Number of attack type: \n"
     ]
    },
    {
     "data": {
      "text/plain": [
       "BENIGN              440031\n",
       "DoS Hulk            231073\n",
       "DoS GoldenEye        10293\n",
       "DoS slowloris         5796\n",
       "DoS Slowhttptest      5499\n",
       "Heartbleed              11\n",
       "Name:  Label, dtype: int64"
      ]
     },
     "execution_count": 4,
     "metadata": {},
     "output_type": "execute_result"
    }
   ],
   "source": [
    "print(\"Number of attack type: \")\n",
    "dataset[\" Label\"].value_counts()"
   ]
  },
  {
   "cell_type": "code",
   "execution_count": 11,
   "id": "e389c9be",
   "metadata": {},
   "outputs": [
    {
     "name": "stdout",
     "output_type": "stream",
     "text": [
      "Total number of records is: 692703\n"
     ]
    }
   ],
   "source": [
    "print(f\"Total number of records is: {len(dataset)}\")"
   ]
  },
  {
   "cell_type": "code",
   "execution_count": 12,
   "id": "145fdc11",
   "metadata": {},
   "outputs": [
    {
     "name": "stdout",
     "output_type": "stream",
     "text": [
      "Number of rows with NaN values: 1008\n"
     ]
    }
   ],
   "source": [
    "num_rows_with_nan = dataset.isnull().any(axis=1).sum()\n",
    "print(\"Number of rows with NaN values:\", num_rows_with_nan)"
   ]
  },
  {
   "cell_type": "code",
   "execution_count": 7,
   "id": "3c30c128",
   "metadata": {},
   "outputs": [
    {
     "data": {
      "text/plain": [
       "0         False\n",
       "1         False\n",
       "2         False\n",
       "3         False\n",
       "4         False\n",
       "          ...  \n",
       "692698    False\n",
       "692699    False\n",
       "692700    False\n",
       "692701    False\n",
       "692702    False\n",
       "Length: 692703, dtype: bool"
      ]
     },
     "execution_count": 7,
     "metadata": {},
     "output_type": "execute_result"
    }
   ],
   "source": [
    "dataset.isnull().any(axis=1)"
   ]
  },
  {
   "cell_type": "code",
   "execution_count": 9,
   "id": "e7056412",
   "metadata": {},
   "outputs": [
    {
     "data": {
      "text/plain": [
       "DoS Hulk    949\n",
       "BENIGN       59\n",
       "Name:  Label, dtype: int64"
      ]
     },
     "execution_count": 9,
     "metadata": {},
     "output_type": "execute_result"
    }
   ],
   "source": [
    "dataset[dataset.isnull().any(axis=1)][\" Label\"].value_counts()"
   ]
  },
  {
   "cell_type": "code",
   "execution_count": null,
   "id": "8b2d7c41",
   "metadata": {},
   "outputs": [],
   "source": []
  }
 ],
 "metadata": {
  "kernelspec": {
   "display_name": "Python 3 (ipykernel)",
   "language": "python",
   "name": "python3"
  },
  "language_info": {
   "codemirror_mode": {
    "name": "ipython",
    "version": 3
   },
   "file_extension": ".py",
   "mimetype": "text/x-python",
   "name": "python",
   "nbconvert_exporter": "python",
   "pygments_lexer": "ipython3",
   "version": "3.9.13"
  }
 },
 "nbformat": 4,
 "nbformat_minor": 5
}
