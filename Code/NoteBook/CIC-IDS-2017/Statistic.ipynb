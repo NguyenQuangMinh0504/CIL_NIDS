{
 "cells": [
  {
   "cell_type": "code",
   "execution_count": 7,
   "id": "d8946e49",
   "metadata": {},
   "outputs": [],
   "source": [
    "import pandas as pd"
   ]
  },
  {
   "cell_type": "code",
   "execution_count": 8,
   "id": "9510a43d",
   "metadata": {},
   "outputs": [],
   "source": [
    "path = \"../../../Dataset/CICDataset/CIC-IDS-2017/TrafficLabelling/Wednesday-workingHours.pcap_ISCX.csv\"\n",
    "dataset = pd.read_csv(path)"
   ]
  },
  {
   "cell_type": "code",
   "execution_count": 9,
   "id": "ff3ee568",
   "metadata": {},
   "outputs": [
    {
     "name": "stdout",
     "output_type": "stream",
     "text": [
      "Total number of features: 85\n",
      "List of features: \n",
      "Flow ID object\n",
      " Source IP object\n",
      " Source Port int64\n",
      " Destination IP object\n",
      " Destination Port int64\n",
      " Protocol int64\n",
      " Timestamp object\n",
      " Flow Duration int64\n",
      " Total Fwd Packets int64\n",
      " Total Backward Packets int64\n",
      "Total Length of Fwd Packets int64\n",
      " Total Length of Bwd Packets float64\n",
      " Fwd Packet Length Max int64\n",
      " Fwd Packet Length Min int64\n",
      " Fwd Packet Length Mean float64\n",
      " Fwd Packet Length Std float64\n",
      "Bwd Packet Length Max int64\n",
      " Bwd Packet Length Min int64\n",
      " Bwd Packet Length Mean float64\n",
      " Bwd Packet Length Std float64\n",
      "Flow Bytes/s float64\n",
      " Flow Packets/s float64\n",
      " Flow IAT Mean float64\n",
      " Flow IAT Std float64\n",
      " Flow IAT Max float64\n",
      " Flow IAT Min float64\n",
      "Fwd IAT Total float64\n",
      " Fwd IAT Mean float64\n",
      " Fwd IAT Std float64\n",
      " Fwd IAT Max float64\n",
      " Fwd IAT Min float64\n",
      "Bwd IAT Total float64\n",
      " Bwd IAT Mean float64\n",
      " Bwd IAT Std float64\n",
      " Bwd IAT Max float64\n",
      " Bwd IAT Min float64\n",
      "Fwd PSH Flags int64\n",
      " Bwd PSH Flags int64\n",
      " Fwd URG Flags int64\n",
      " Bwd URG Flags int64\n",
      " Fwd Header Length int64\n",
      " Bwd Header Length int64\n",
      "Fwd Packets/s float64\n",
      " Bwd Packets/s float64\n",
      " Min Packet Length int64\n",
      " Max Packet Length int64\n",
      " Packet Length Mean float64\n",
      " Packet Length Std float64\n",
      " Packet Length Variance float64\n",
      "FIN Flag Count int64\n",
      " SYN Flag Count int64\n",
      " RST Flag Count int64\n",
      " PSH Flag Count int64\n",
      " ACK Flag Count int64\n",
      " URG Flag Count int64\n",
      " CWE Flag Count int64\n",
      " ECE Flag Count int64\n",
      " Down/Up Ratio int64\n",
      " Average Packet Size float64\n",
      " Avg Fwd Segment Size float64\n",
      " Avg Bwd Segment Size float64\n",
      " Fwd Header Length.1 int64\n",
      "Fwd Avg Bytes/Bulk int64\n",
      " Fwd Avg Packets/Bulk int64\n",
      " Fwd Avg Bulk Rate int64\n",
      " Bwd Avg Bytes/Bulk int64\n",
      " Bwd Avg Packets/Bulk int64\n",
      "Bwd Avg Bulk Rate int64\n",
      "Subflow Fwd Packets int64\n",
      " Subflow Fwd Bytes int64\n",
      " Subflow Bwd Packets int64\n",
      " Subflow Bwd Bytes int64\n",
      "Init_Win_bytes_forward int64\n",
      " Init_Win_bytes_backward int64\n",
      " act_data_pkt_fwd int64\n",
      " min_seg_size_forward int64\n",
      "Active Mean float64\n",
      " Active Std float64\n",
      " Active Max float64\n",
      " Active Min float64\n",
      "Idle Mean float64\n",
      " Idle Std float64\n",
      " Idle Max float64\n",
      " Idle Min float64\n",
      " Label object\n"
     ]
    }
   ],
   "source": [
    "print(f\"Total number of features: {len(dataset.columns)}\")\n",
    "print(\"List of features: \")\n",
    "for i in dataset.columns:\n",
    "    print(i, dataset[i].dtype)"
   ]
  },
  {
   "cell_type": "code",
   "execution_count": 10,
   "id": "905f9d28",
   "metadata": {},
   "outputs": [
    {
     "name": "stdout",
     "output_type": "stream",
     "text": [
      "Number of attack type: \n"
     ]
    },
    {
     "data": {
      "text/plain": [
       "BENIGN              440031\n",
       "DoS Hulk            231073\n",
       "DoS GoldenEye        10293\n",
       "DoS slowloris         5796\n",
       "DoS Slowhttptest      5499\n",
       "Heartbleed              11\n",
       "Name:  Label, dtype: int64"
      ]
     },
     "execution_count": 10,
     "metadata": {},
     "output_type": "execute_result"
    }
   ],
   "source": [
    "print(\"Number of attack type: \")\n",
    "dataset[\" Label\"].value_counts()"
   ]
  },
  {
   "cell_type": "code",
   "execution_count": 11,
   "id": "e389c9be",
   "metadata": {},
   "outputs": [
    {
     "name": "stdout",
     "output_type": "stream",
     "text": [
      "Total number of records is: 692703\n"
     ]
    }
   ],
   "source": [
    "print(f\"Total number of records is: {len(dataset)}\")"
   ]
  },
  {
   "cell_type": "code",
   "execution_count": 12,
   "id": "145fdc11",
   "metadata": {},
   "outputs": [
    {
     "name": "stdout",
     "output_type": "stream",
     "text": [
      "Number of rows with NaN values: 1008\n"
     ]
    }
   ],
   "source": [
    "num_rows_with_nan = dataset.isnull().any(axis=1).sum()\n",
    "print(\"Number of rows with NaN values:\", num_rows_with_nan)"
   ]
  },
  {
   "cell_type": "code",
   "execution_count": null,
   "id": "3c30c128",
   "metadata": {},
   "outputs": [],
   "source": []
  }
 ],
 "metadata": {
  "kernelspec": {
   "display_name": "Python 3 (ipykernel)",
   "language": "python",
   "name": "python3"
  },
  "language_info": {
   "codemirror_mode": {
    "name": "ipython",
    "version": 3
   },
   "file_extension": ".py",
   "mimetype": "text/x-python",
   "name": "python",
   "nbconvert_exporter": "python",
   "pygments_lexer": "ipython3",
   "version": "3.9.13"
  }
 },
 "nbformat": 4,
 "nbformat_minor": 5
}
