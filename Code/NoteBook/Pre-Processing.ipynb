{
 "cells": [
  {
   "cell_type": "code",
   "execution_count": 2,
   "id": "9bef0490",
   "metadata": {},
   "outputs": [
    {
     "name": "stdout",
     "output_type": "stream",
     "text": [
      "continuous\n",
      "symbolic\n",
      "symbolic\n",
      "symbolic\n",
      "continuous\n",
      "continuous\n",
      "symbolic\n",
      "continuous\n",
      "continuous\n",
      "continuous\n",
      "continuous\n",
      "symbolic\n",
      "continuous\n",
      "continuous\n",
      "continuous\n",
      "continuous\n",
      "continuous\n",
      "continuous\n",
      "continuous\n",
      "continuous\n",
      "symbolic\n",
      "symbolic\n",
      "continuous\n",
      "continuous\n",
      "continuous\n",
      "continuous\n",
      "continuous\n",
      "continuous\n",
      "continuous\n",
      "continuous\n",
      "continuous\n",
      "continuous\n",
      "continuous\n",
      "continuous\n",
      "continuous\n",
      "continuous\n",
      "continuous\n",
      "continuous\n",
      "continuous\n",
      "continuous\n",
      "continuous\n"
     ]
    }
   ],
   "source": [
    "with open(\"../Dataset/kddcup.names\") as f:\n",
    "    features = [line.strip() for line in f.readlines()[1:]]\n",
    "for feature in features:\n",
    "    if \"continuous.\" in feature:\n",
    "        print(\"continuous\")\n",
    "    else:\n",
    "        print(\"symbolic\")"
   ]
  },
  {
   "cell_type": "code",
   "execution_count": null,
   "id": "015e8e58",
   "metadata": {},
   "outputs": [],
   "source": []
  }
 ],
 "metadata": {
  "kernelspec": {
   "display_name": "Python 3 (ipykernel)",
   "language": "python",
   "name": "python3"
  },
  "language_info": {
   "codemirror_mode": {
    "name": "ipython",
    "version": 3
   },
   "file_extension": ".py",
   "mimetype": "text/x-python",
   "name": "python",
   "nbconvert_exporter": "python",
   "pygments_lexer": "ipython3",
   "version": "3.9.12"
  }
 },
 "nbformat": 4,
 "nbformat_minor": 5
}
